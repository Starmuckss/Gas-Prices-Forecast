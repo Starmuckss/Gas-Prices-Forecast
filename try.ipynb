{
 "cells": [
  {
   "cell_type": "code",
   "execution_count": 1,
   "metadata": {},
   "outputs": [],
   "source": [
    "from data_prep import DataPrep"
   ]
  },
  {
   "cell_type": "code",
   "execution_count": 6,
   "metadata": {},
   "outputs": [],
   "source": [
    "dp = DataPrep()"
   ]
  },
  {
   "cell_type": "code",
   "execution_count": 8,
   "metadata": {},
   "outputs": [
    {
     "name": "stdout",
     "output_type": "stream",
     "text": [
      "           date  kursunsuz 95  motorin\n",
      "0    2022-09-02         20.13    26.92\n",
      "1    2022-09-03         18.66    24.52\n",
      "2    2022-09-06         19.23    25.22\n",
      "3    2022-09-07         19.23    25.99\n",
      "4    2022-09-08         19.23    24.86\n",
      "..          ...           ...      ...\n",
      "166  2023-08-16         37.71    38.38\n",
      "167  2023-08-18         37.71    36.87\n",
      "168  2023-08-19         37.74    36.90\n",
      "169  2023-08-22         37.74    37.90\n",
      "170  2023-08-26         37.78    37.93\n",
      "\n",
      "[171 rows x 3 columns]\n"
     ]
    }
   ],
   "source": [
    "dp.read_data('gasprices.csv')\n",
    "dp.clean_data()\n",
    "dp.forwardfill_data()\n"
   ]
  },
  {
   "cell_type": "code",
   "execution_count": 9,
   "metadata": {},
   "outputs": [
    {
     "name": "stdout",
     "output_type": "stream",
     "text": [
      "<class 'pandas.core.frame.DataFrame'>\n",
      "Int64Index: 171 entries, 0 to 170\n",
      "Data columns (total 3 columns):\n",
      " #   Column        Non-Null Count  Dtype         \n",
      "---  ------        --------------  -----         \n",
      " 0   date          171 non-null    datetime64[ns]\n",
      " 1   kursunsuz 95  171 non-null    float64       \n",
      " 2   motorin       171 non-null    float64       \n",
      "dtypes: datetime64[ns](1), float64(2)\n",
      "memory usage: 5.3 KB\n"
     ]
    }
   ],
   "source": [
    "dp.data.info()"
   ]
  },
  {
   "cell_type": "code",
   "execution_count": 5,
   "metadata": {},
   "outputs": [
    {
     "ename": "NameError",
     "evalue": "name 'pd' is not defined",
     "output_type": "error",
     "traceback": [
      "\u001b[1;31m---------------------------------------------------------------------------\u001b[0m",
      "\u001b[1;31mNameError\u001b[0m                                 Traceback (most recent call last)",
      "Cell \u001b[1;32mIn[5], line 1\u001b[0m\n\u001b[1;32m----> 1\u001b[0m dp\u001b[39m.\u001b[39mdata\u001b[39m.\u001b[39mDate \u001b[39m=\u001b[39m pd\u001b[39m.\u001b[39mto_datetime(dp\u001b[39m.\u001b[39mdata\u001b[39m.\u001b[39mDate)\n\u001b[0;32m      3\u001b[0m min_date \u001b[39m=\u001b[39m dp\u001b[39m.\u001b[39mdata\u001b[39m.\u001b[39mDate\u001b[39m.\u001b[39mmin()\n\u001b[0;32m      4\u001b[0m max_date \u001b[39m=\u001b[39m dp\u001b[39m.\u001b[39mdata\u001b[39m.\u001b[39mDate\u001b[39m.\u001b[39mmax()\n",
      "\u001b[1;31mNameError\u001b[0m: name 'pd' is not defined"
     ]
    }
   ],
   "source": [
    "dp.data.Date = pd.to_datetime(dp.data.Date)\n",
    "\n",
    "min_date = dp.data.Date.min()\n",
    "max_date = dp.data.Date.max()\n"
   ]
  },
  {
   "cell_type": "code",
   "execution_count": null,
   "metadata": {},
   "outputs": [
    {
     "data": {
      "text/plain": [
       "Timestamp('2023-08-16 00:00:00')"
      ]
     },
     "execution_count": 65,
     "metadata": {},
     "output_type": "execute_result"
    }
   ],
   "source": [
    "max_date"
   ]
  },
  {
   "cell_type": "code",
   "execution_count": null,
   "metadata": {},
   "outputs": [
    {
     "data": {
      "text/plain": [
       "[Timestamp('2023-07-28 00:00:00', freq='D'),\n",
       " Timestamp('2023-07-29 00:00:00', freq='D'),\n",
       " Timestamp('2023-07-30 00:00:00', freq='D'),\n",
       " Timestamp('2023-07-31 00:00:00', freq='D'),\n",
       " Timestamp('2023-08-01 00:00:00', freq='D'),\n",
       " Timestamp('2023-08-02 00:00:00', freq='D'),\n",
       " Timestamp('2023-08-03 00:00:00', freq='D'),\n",
       " Timestamp('2023-08-04 00:00:00', freq='D'),\n",
       " Timestamp('2023-08-05 00:00:00', freq='D'),\n",
       " Timestamp('2023-08-06 00:00:00', freq='D'),\n",
       " Timestamp('2023-08-07 00:00:00', freq='D'),\n",
       " Timestamp('2023-08-08 00:00:00', freq='D'),\n",
       " Timestamp('2023-08-09 00:00:00', freq='D'),\n",
       " Timestamp('2023-08-10 00:00:00', freq='D'),\n",
       " Timestamp('2023-08-11 00:00:00', freq='D'),\n",
       " Timestamp('2023-08-12 00:00:00', freq='D'),\n",
       " Timestamp('2023-08-13 00:00:00', freq='D'),\n",
       " Timestamp('2023-08-14 00:00:00', freq='D'),\n",
       " Timestamp('2023-08-15 00:00:00', freq='D'),\n",
       " Timestamp('2023-08-16 00:00:00', freq='D')]"
      ]
     },
     "execution_count": 66,
     "metadata": {},
     "output_type": "execute_result"
    }
   ],
   "source": [
    "\n",
    "import pandas as pd\n",
    "date_range = pd.date_range(min_date, max_date)\n",
    "list(date_range)"
   ]
  },
  {
   "cell_type": "code",
   "execution_count": null,
   "metadata": {},
   "outputs": [
    {
     "data": {
      "text/html": [
       "<div>\n",
       "<style scoped>\n",
       "    .dataframe tbody tr th:only-of-type {\n",
       "        vertical-align: middle;\n",
       "    }\n",
       "\n",
       "    .dataframe tbody tr th {\n",
       "        vertical-align: top;\n",
       "    }\n",
       "\n",
       "    .dataframe thead th {\n",
       "        text-align: right;\n",
       "    }\n",
       "</style>\n",
       "<table border=\"1\" class=\"dataframe\">\n",
       "  <thead>\n",
       "    <tr style=\"text-align: right;\">\n",
       "      <th></th>\n",
       "      <th>Date</th>\n",
       "      <th>Kursunsuz 95</th>\n",
       "      <th>motorin</th>\n",
       "    </tr>\n",
       "  </thead>\n",
       "  <tbody>\n",
       "    <tr>\n",
       "      <th>0</th>\n",
       "      <td>2023-07-28</td>\n",
       "      <td>36.05</td>\n",
       "      <td>35.35</td>\n",
       "    </tr>\n",
       "    <tr>\n",
       "      <th>1</th>\n",
       "      <td>2023-07-29</td>\n",
       "      <td>36.09</td>\n",
       "      <td>35.40</td>\n",
       "    </tr>\n",
       "    <tr>\n",
       "      <th>2</th>\n",
       "      <td>2023-07-30</td>\n",
       "      <td>36.09</td>\n",
       "      <td>35.40</td>\n",
       "    </tr>\n",
       "    <tr>\n",
       "      <th>3</th>\n",
       "      <td>2023-07-31</td>\n",
       "      <td>36.09</td>\n",
       "      <td>35.40</td>\n",
       "    </tr>\n",
       "    <tr>\n",
       "      <th>4</th>\n",
       "      <td>2023-08-01</td>\n",
       "      <td>36.09</td>\n",
       "      <td>36.47</td>\n",
       "    </tr>\n",
       "    <tr>\n",
       "      <th>5</th>\n",
       "      <td>2023-08-02</td>\n",
       "      <td>36.09</td>\n",
       "      <td>36.51</td>\n",
       "    </tr>\n",
       "    <tr>\n",
       "      <th>6</th>\n",
       "      <td>2023-08-03</td>\n",
       "      <td>36.09</td>\n",
       "      <td>36.51</td>\n",
       "    </tr>\n",
       "    <tr>\n",
       "      <th>7</th>\n",
       "      <td>2023-08-04</td>\n",
       "      <td>36.13</td>\n",
       "      <td>36.51</td>\n",
       "    </tr>\n",
       "    <tr>\n",
       "      <th>8</th>\n",
       "      <td>2023-08-05</td>\n",
       "      <td>36.13</td>\n",
       "      <td>36.55</td>\n",
       "    </tr>\n",
       "    <tr>\n",
       "      <th>9</th>\n",
       "      <td>2023-08-06</td>\n",
       "      <td>36.13</td>\n",
       "      <td>36.55</td>\n",
       "    </tr>\n",
       "    <tr>\n",
       "      <th>10</th>\n",
       "      <td>2023-08-07</td>\n",
       "      <td>36.13</td>\n",
       "      <td>36.55</td>\n",
       "    </tr>\n",
       "    <tr>\n",
       "      <th>11</th>\n",
       "      <td>2023-08-08</td>\n",
       "      <td>36.13</td>\n",
       "      <td>36.55</td>\n",
       "    </tr>\n",
       "    <tr>\n",
       "      <th>12</th>\n",
       "      <td>2023-08-09</td>\n",
       "      <td>36.13</td>\n",
       "      <td>36.55</td>\n",
       "    </tr>\n",
       "    <tr>\n",
       "      <th>13</th>\n",
       "      <td>2023-08-10</td>\n",
       "      <td>36.13</td>\n",
       "      <td>36.55</td>\n",
       "    </tr>\n",
       "    <tr>\n",
       "      <th>14</th>\n",
       "      <td>2023-08-11</td>\n",
       "      <td>36.13</td>\n",
       "      <td>38.35</td>\n",
       "    </tr>\n",
       "    <tr>\n",
       "      <th>15</th>\n",
       "      <td>2023-08-12</td>\n",
       "      <td>36.16</td>\n",
       "      <td>38.38</td>\n",
       "    </tr>\n",
       "    <tr>\n",
       "      <th>16</th>\n",
       "      <td>2023-08-13</td>\n",
       "      <td>36.16</td>\n",
       "      <td>38.38</td>\n",
       "    </tr>\n",
       "    <tr>\n",
       "      <th>17</th>\n",
       "      <td>2023-08-14</td>\n",
       "      <td>36.16</td>\n",
       "      <td>38.38</td>\n",
       "    </tr>\n",
       "    <tr>\n",
       "      <th>18</th>\n",
       "      <td>2023-08-15</td>\n",
       "      <td>36.16</td>\n",
       "      <td>38.38</td>\n",
       "    </tr>\n",
       "    <tr>\n",
       "      <th>19</th>\n",
       "      <td>2023-08-16</td>\n",
       "      <td>37.71</td>\n",
       "      <td>38.38</td>\n",
       "    </tr>\n",
       "  </tbody>\n",
       "</table>\n",
       "</div>"
      ],
      "text/plain": [
       "         Date  Kursunsuz 95  motorin\n",
       "0  2023-07-28         36.05    35.35\n",
       "1  2023-07-29         36.09    35.40\n",
       "2  2023-07-30         36.09    35.40\n",
       "3  2023-07-31         36.09    35.40\n",
       "4  2023-08-01         36.09    36.47\n",
       "5  2023-08-02         36.09    36.51\n",
       "6  2023-08-03         36.09    36.51\n",
       "7  2023-08-04         36.13    36.51\n",
       "8  2023-08-05         36.13    36.55\n",
       "9  2023-08-06         36.13    36.55\n",
       "10 2023-08-07         36.13    36.55\n",
       "11 2023-08-08         36.13    36.55\n",
       "12 2023-08-09         36.13    36.55\n",
       "13 2023-08-10         36.13    36.55\n",
       "14 2023-08-11         36.13    38.35\n",
       "15 2023-08-12         36.16    38.38\n",
       "16 2023-08-13         36.16    38.38\n",
       "17 2023-08-14         36.16    38.38\n",
       "18 2023-08-15         36.16    38.38\n",
       "19 2023-08-16         37.71    38.38"
      ]
     },
     "execution_count": 68,
     "metadata": {},
     "output_type": "execute_result"
    }
   ],
   "source": [
    "df_date_range = pd.DataFrame({'Date': list(date_range)})\n",
    "\n",
    "merged = pd.merge(left=dp.data, right=df_date_range, how=\"right\", on=['Date'])\n",
    "merged.ffill()"
   ]
  },
  {
   "cell_type": "code",
   "execution_count": 1,
   "metadata": {},
   "outputs": [
    {
     "name": "stderr",
     "output_type": "stream",
     "text": [
      "c:\\Users\\HP\\AppData\\Local\\Programs\\Python\\Python310\\lib\\site-packages\\tqdm\\auto.py:21: TqdmWarning: IProgress not found. Please update jupyter and ipywidgets. See https://ipywidgets.readthedocs.io/en/stable/user_install.html\n",
      "  from .autonotebook import tqdm as notebook_tqdm\n",
      "Importing plotly failed. Interactive plots will not work.\n"
     ]
    }
   ],
   "source": [
    "from forecast import Forecast\n",
    "fc = Forecast()"
   ]
  },
  {
   "cell_type": "code",
   "execution_count": 2,
   "metadata": {},
   "outputs": [
    {
     "ename": "AttributeError",
     "evalue": "'Forecast' object has no attribute 'input_data'",
     "output_type": "error",
     "traceback": [
      "\u001b[1;31m---------------------------------------------------------------------------\u001b[0m",
      "\u001b[1;31mAttributeError\u001b[0m                            Traceback (most recent call last)",
      "Cell \u001b[1;32mIn[2], line 1\u001b[0m\n\u001b[1;32m----> 1\u001b[0m fc\u001b[39m.\u001b[39;49mprophet_fc()\n",
      "File \u001b[1;32mc:\\Users\\HP\\Desktop\\Gas-Prices-Forecast\\forecast.py:23\u001b[0m, in \u001b[0;36mForecast.prophet_fc\u001b[1;34m(self)\u001b[0m\n\u001b[0;32m     20\u001b[0m \u001b[39mdef\u001b[39;00m \u001b[39mprophet_fc\u001b[39m(\u001b[39mself\u001b[39m):\n\u001b[0;32m     21\u001b[0m     \u001b[39m# Data prep\u001b[39;00m\n\u001b[0;32m     22\u001b[0m     prophet_data \u001b[39m=\u001b[39m pd\u001b[39m.\u001b[39mDataFrame()\n\u001b[1;32m---> 23\u001b[0m     prophet_data[\u001b[39m'\u001b[39m\u001b[39my\u001b[39m\u001b[39m'\u001b[39m] \u001b[39m=\u001b[39m \u001b[39mself\u001b[39;49m\u001b[39m.\u001b[39;49minput_data[\u001b[39m'\u001b[39m\u001b[39mmotorin\u001b[39m\u001b[39m'\u001b[39m]\n\u001b[0;32m     24\u001b[0m     prophet_data[\u001b[39m'\u001b[39m\u001b[39mds\u001b[39m\u001b[39m'\u001b[39m] \u001b[39m=\u001b[39m \u001b[39mself\u001b[39m\u001b[39m.\u001b[39minput_data[\u001b[39m'\u001b[39m\u001b[39mDate\u001b[39m\u001b[39m'\u001b[39m]\n\u001b[0;32m     26\u001b[0m     periods \u001b[39m=\u001b[39m \u001b[39m3\u001b[39m\n",
      "\u001b[1;31mAttributeError\u001b[0m: 'Forecast' object has no attribute 'input_data'"
     ]
    }
   ],
   "source": [
    "fc.prophet_fc()"
   ]
  },
  {
   "cell_type": "code",
   "execution_count": 3,
   "metadata": {},
   "outputs": [
    {
     "ename": "AttributeError",
     "evalue": "'Forecast' object has no attribute 'input_data'",
     "output_type": "error",
     "traceback": [
      "\u001b[1;31m---------------------------------------------------------------------------\u001b[0m",
      "\u001b[1;31mAttributeError\u001b[0m                            Traceback (most recent call last)",
      "Cell \u001b[1;32mIn[3], line 1\u001b[0m\n\u001b[1;32m----> 1\u001b[0m fc\u001b[39m.\u001b[39;49minput_data\n",
      "\u001b[1;31mAttributeError\u001b[0m: 'Forecast' object has no attribute 'input_data'"
     ]
    }
   ],
   "source": [
    "fc.input_data"
   ]
  },
  {
   "cell_type": "code",
   "execution_count": null,
   "metadata": {},
   "outputs": [],
   "source": []
  }
 ],
 "metadata": {
  "kernelspec": {
   "display_name": "Python 3",
   "language": "python",
   "name": "python3"
  },
  "language_info": {
   "codemirror_mode": {
    "name": "ipython",
    "version": 3
   },
   "file_extension": ".py",
   "mimetype": "text/x-python",
   "name": "python",
   "nbconvert_exporter": "python",
   "pygments_lexer": "ipython3",
   "version": "3.10.7"
  },
  "orig_nbformat": 4
 },
 "nbformat": 4,
 "nbformat_minor": 2
}
